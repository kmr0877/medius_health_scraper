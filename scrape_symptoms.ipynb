{
 "cells": [
  {
   "cell_type": "code",
   "execution_count": 1,
   "metadata": {},
   "outputs": [],
   "source": [
    "import sys\n",
    "from bs4 import BeautifulSoup\n",
    "import scrapy\n",
    "from lxml.etree import fromstring\n",
    "import requests\n",
    "import time\n",
    "import re\n",
    "import json\n",
    "from selenium import webdriver\n",
    "from selenium.webdriver.common.keys import Keys\n",
    "from six.moves.urllib import parse\n",
    "import selenium.webdriver.chrome.service as service\n",
    "from pyvirtualdisplay import Display\n",
    "from selenium.webdriver.support.ui import WebDriverWait"
   ]
  },
  {
   "cell_type": "markdown",
   "metadata": {},
   "source": [
    "# scroll page function opens the webpage and keep scrollinig till the end of the page until no more new results are being fetched"
   ]
  },
  {
   "cell_type": "code",
   "execution_count": 2,
   "metadata": {},
   "outputs": [],
   "source": [
    "def scroll_page(url):\n",
    "    driver = webdriver.Chrome('/Users/mohan/Documents/medius_health_scraper/chromedriver')\n",
    "    driver.get(url)\n",
    "    driver.execute_script(\"window.scrollTo(0, document.body.scrollHeight);\")\n",
    "    time.sleep(3)\n",
    "    html = driver.find_element_by_class_name('css-y1gt6f').get_attribute('innerHTML')\n",
    "    return html\n",
    "def get_soup(x):\n",
    "    soup = BeautifulSoup(x,'lxml')\n",
    "    return soup"
   ]
  },
  {
   "cell_type": "markdown",
   "metadata": {},
   "source": [
    "# extract_name fun returns the name of the disease in the webpage\n",
    "# extract_url fun returns the url or link for each disease page"
   ]
  },
  {
   "cell_type": "code",
   "execution_count": 3,
   "metadata": {},
   "outputs": [],
   "source": [
    "def extract_name(x):\n",
    "    name = x.find('h2',{'class':'h1 css-kjyn3a egb32mv1'})\n",
    "    name = name.text\n",
    "    return name\n",
    "def extract_url(x):\n",
    "    url = x.find('a',attrs = {'href':re.compile('/health/*')})\n",
    "    url = url.get('href')\n",
    "    complete_url = 'https://www.healthline.com'+url\n",
    "    return complete_url"
   ]
  },
  {
   "cell_type": "markdown",
   "metadata": {},
   "source": [
    "# extract_details fun returns the symptoms listed for each disease in the web page"
   ]
  },
  {
   "cell_type": "code",
   "execution_count": 14,
   "metadata": {},
   "outputs": [],
   "source": [
    "def extract_details(x):\n",
    "    name = extract_name(x)\n",
    "    complete_url = extract_url(x)\n",
    "    response = requests.get(complete_url)\n",
    "    source_code = response.text\n",
    "    sub_soup = get_soup(source_code)\n",
    "    symptoms = sub_soup.find('a',attrs = {'name':re.compile('symptoms*')})\n",
    "    return name,complete_url,symptoms"
   ]
  },
  {
   "cell_type": "code",
   "execution_count": 5,
   "metadata": {},
   "outputs": [],
   "source": [
    "start_url = 'https://www.healthline.com/symptom/dizziness'"
   ]
  },
  {
   "cell_type": "code",
   "execution_count": 6,
   "metadata": {},
   "outputs": [],
   "source": [
    "def extract_symptoms(symptoms):\n",
    "    symptoms_list = []\n",
    "    counter = symptoms.findNext('ul').contents\n",
    "    for i in range(len(counter)):\n",
    "        if counter[i] != ' ':\n",
    "            symptoms_list.append(symptoms.findNext('ul').contents[i].string)\n",
    "    symptoms_list = list(filter(None.__ne__, symptoms_list))\n",
    "    return symptoms_list"
   ]
  },
  {
   "cell_type": "markdown",
   "metadata": {},
   "source": [
    "# start_scraping fun recursively parse through all the pages of all diseases and get symptoms associated with each disease\n",
    "# final_symptoms is a dictionary with key as disease and values being the symptoms associated with each disease"
   ]
  },
  {
   "cell_type": "code",
   "execution_count": 7,
   "metadata": {},
   "outputs": [],
   "source": [
    "final_symptoms = {}\n",
    "def start_scraping(soup):\n",
    "    for disease in soup.findAll('li', {'class': 'css-ee6cf6'}):\n",
    "        name,complete_url,symptoms = extract_details(disease)\n",
    "        print(name)\n",
    "        print(complete_url)\n",
    "        if symptoms:\n",
    "            symptoms_list = []\n",
    "            symptoms_list = extract_symptoms(symptoms)\n",
    "            final_symptoms[name] = symptoms_list\n",
    "            #pass\n",
    "            print(symptoms_list)\n",
    "        else:\n",
    "            #sub_html = scroll_page(complete_url)\n",
    "            response = requests.get(complete_url)\n",
    "            source_code = response.text\n",
    "            sub_soup = get_soup(source_code)\n",
    "            start_scraping(sub_soup)\n"
   ]
  },
  {
   "cell_type": "markdown",
   "metadata": {},
   "source": [
    "# i have extracted symptoms for about 30 records by iterating recursively through the web pages for demonstration and saved in the sample_output.json file"
   ]
  },
  {
   "cell_type": "code",
   "execution_count": 9,
   "metadata": {
    "scrolled": true
   },
   "outputs": [
    {
     "name": "stdout",
     "output_type": "stream",
     "text": [
      "Low Blood Sugar (Hypoglycemia)\n",
      "https://www.healthline.com/health/hypoglycemia\n",
      "['blurry vision', 'rapid heartbeat', 'sudden mood changes', 'sudden nervousness', 'pale skin', 'headache', 'hunger', 'shaking', 'dizziness', 'sweating', 'difficulty sleeping', 'skin tingling']\n",
      "Labyrinthitis\n",
      "https://www.healthline.com/health/labyrinthitis\n",
      "['dizziness', 'vertigo', 'loss of balance', 'nausea and vomiting', 'loss of hearing in the high-frequency range in one ear', 'difficulty focusing your eyes']\n",
      "What Is Hypotension?\n",
      "https://www.healthline.com/health/hypotension\n",
      "Orthostatic Hypotension (Postural Hyoptension)\n",
      "https://www.healthline.com/health/orthostatic-hypotension\n",
      "Dehydration\n",
      "https://www.healthline.com/health/dehydration\n",
      "Fever\n",
      "https://www.healthline.com/health/fever\n",
      "Common Cold Overview\n",
      "https://www.healthline.com/health/common-cold\n",
      "['adults over age 65', 'women who are pregnant', 'children under age 5', 'people with weakened immune systems due to chronic illness']\n",
      "Cold and Flu\n",
      "https://www.healthline.com/health/cold-flu\n",
      "['adults over age 65', 'women who are pregnant', 'children under age 5', 'people with weakened immune systems due to chronic illness']\n",
      "Strep Throat\n",
      "https://www.healthline.com/health/strep-throat\n",
      "['a sore, red throat with white patches', 'chills', 'trouble swallowing']\n",
      "Understanding Chronic Bronchitis\n",
      "https://www.healthline.com/health/copd/understanding-chronic-bronchitis\n",
      "['fatigue', 'a fever', 'chills', 'chest discomfort', 'sinus congestion', 'bad breath']\n",
      "Sepsis\n",
      "https://www.healthline.com/health/sepsis\n",
      "['breathing rate higher than 20 breaths per minute', 'probable or confirmed infection']\n",
      "Fever of Unknown Origin\n",
      "https://www.healthline.com/health/fever-of-unknown-origin\n",
      "['a temperature that exceeds 100.4°F (38°C) for babies or 99.5°F (37.5°C) for children and adults', 'sweating', 'chills', 'headaches']\n",
      "What Is Acute HIV Infection?\n",
      "https://www.healthline.com/health/acute-hiv-infection\n",
      "['rash', 'fever', 'chills', 'headache', 'fatigue', 'sore throat', 'night sweats', 'loss of appetite', 'ulcers that appear in the mouth, esophagus, or genitals', 'swollen lymph nodes', 'muscle aches']\n",
      "RSV (Respiratory Syncytial Virus) Infection\n",
      "https://www.healthline.com/health/respiratory-syncytial-virus-rsv\n",
      "['fever', 'congestion', 'cough']\n",
      "Dengue Fever\n",
      "https://www.healthline.com/health/dengue-fever\n",
      "['sudden, high fever (up to 106 degrees Fahrenheit)', 'severe headache', 'swollen lymph glands', 'severe joint and muscle pains', 'skin rash (appearing between two and five days after the initial fever)', 'mild to severe nausea', 'mild to severe vomiting', 'mild bleeding from the nose or gums', 'mild bruising on the skin', 'febrile convulsions']\n",
      "Food Poisoning\n",
      "https://www.healthline.com/health/food-poisoning\n",
      "['diarrhea', 'vomiting', 'nausea']\n",
      "Non-Hodgkin's Lymphoma\n",
      "https://www.healthline.com/health/non-hodgkins-lymphoma\n",
      "['abdominal pain or swelling', 'chest pain', 'coughing', 'difficulty breathing', 'swollen lymph nodes', 'fatigue', 'a fever', 'night sweats', 'weight loss']\n",
      "Everything You Need to Know About Lung Cancer\n",
      "https://www.healthline.com/health/lung-cancer\n",
      "['lingering or worsening cough', 'coughing up phlegm or blood', 'chest pain that worsens when you breathe deeply, laugh, or cough', 'hoarseness', 'shortness of breath', 'wheezing', 'weakness and fatigue', 'loss of appetite and weight loss']\n",
      "Sinus Infections (Sinusitis)\n",
      "https://www.healthline.com/health/sinusitis\n",
      "['Press Release: Healthline Partners with COPD Foundation to Launch Inspirational Stories Project']\n",
      "Septic Shock\n",
      "https://www.healthline.com/health/septic-shock\n",
      "['fast heart rate', 'rapid breathing, or more than 20 breaths per minute ']\n",
      "Bone Infection (Osteomyelitis)\n",
      "https://www.healthline.com/health/osteomyelitis\n",
      "['drainage from the area']\n",
      "Alcohol-Related Liver Disease\n",
      "https://www.healthline.com/health/alcoholism/liver-disease\n",
      "['nausea', 'loss of appetite', 'jaundice', 'fatigue', 'abdominal discomfort', 'increased thirst', 'swelling in the legs and abdomen', 'weight loss', 'darkening or lightening of the skin', 'red hands or feet', 'dark bowel movements', 'fainting', 'unusual agitation', 'mood swings', 'confusion', 'bleeding gums', 'enlarged breasts (in men)']\n",
      "Caffeine Overdose: How Much Is Too Much?\n",
      "https://www.healthline.com/health/caffeine-overdose\n",
      "['dizziness', 'diarrhea', 'increased thirst', 'insomnia', 'headache', 'fever', 'irritability']\n",
      "Heat Emergencies\n",
      "https://www.healthline.com/health/heat-emergencies\n",
      "['muscle cramps', 'dizziness', 'mild confusion', 'fast heart rate or breathing', 'headache', 'irritability', 'extreme thirst', 'nausea or vomiting', 'pale skin', 'heavy sweating', 'fainting']\n",
      "Middle Ear Infection (Otitis Media)\n",
      "https://www.healthline.com/health/otitis\n",
      "['ear pain', 'irritability', 'difficulty sleeping', 'tugging or pulling at the ears', 'fever', 'loss of balance', 'problems hearing', 'nausea and vomiting', 'diarrhea', 'decreased appetite', 'congestion']\n",
      "All About Pneumonia and How to Treat It Effectively\n",
      "https://www.healthline.com/health/pneumonia\n",
      "['fever, sweating, and chills', 'shortness of breath', 'chest pain']\n",
      "Diarrhea\n",
      "https://www.healthline.com/health/diarrhea\n",
      "Viral Gastroenteritis (Stomach Flu)\n",
      "https://www.healthline.com/health/viral-gastroenteritis\n",
      "['diarrhea', 'nausea and vomiting', 'abdominal cramps and pain', 'loss of appetite']\n",
      "Food Poisoning\n",
      "https://www.healthline.com/health/food-poisoning\n",
      "['diarrhea', 'vomiting', 'nausea']\n",
      "Bacterial Gastroenteritis\n",
      "https://www.healthline.com/health/bacterial-gastroenteritis\n",
      "['loss of appetite', 'nausea and vomiting', 'diarrhea', 'abdominal pains and cramps', 'blood in your stools', 'fever']\n",
      "Giardiasis\n",
      "https://www.healthline.com/health/giardiasis\n",
      "['fatigue', 'nausea', 'loss of appetite', 'vomiting', 'weight loss', 'headaches', 'abdominal pain']\n",
      "Food Allergy Basics\n",
      "https://www.healthline.com/health/food-allergy\n",
      "['sneezing', 'stuffy or runny nose', 'itchy, watery eyes', 'swelling', 'rash', 'stomach cramps', 'diarrhea']\n",
      "Lactose Intolerance\n",
      "https://www.healthline.com/health/lactose-intolerance\n",
      "Bacterial Gastroenteritis\n",
      "https://www.healthline.com/health/bacterial-gastroenteritis\n",
      "['loss of appetite', 'nausea and vomiting', 'diarrhea', 'abdominal pains and cramps', 'blood in your stools', 'fever']\n",
      "Crohn’s Disease: Symptoms, Causes, Treatment, and More\n",
      "https://www.healthline.com/health/crohns-disease-overview\n",
      "['diarrhea, which may contain blood or mucus ', 'fatigue']\n",
      "Celiac Disease: More Than Gluten Intolerance\n",
      "https://www.healthline.com/health/celiac-disease-sprue\n",
      "['weight loss', 'vomiting', 'abdominal bloating', 'abdominal pain', 'pale, fatty, foul-smelling stools']\n",
      "Cystic Fibrosis\n",
      "https://www.healthline.com/health/cystic-fibrosis\n",
      "['the lungs', 'the pancreas', 'the liver', 'other glandular organs']\n"
     ]
    },
    {
     "ename": "KeyboardInterrupt",
     "evalue": "",
     "output_type": "error",
     "traceback": [
      "\u001b[0;31m---------------------------------------------------------------------------\u001b[0m",
      "\u001b[0;31mKeyboardInterrupt\u001b[0m                         Traceback (most recent call last)",
      "\u001b[0;32m<ipython-input-9-900e37c4969b>\u001b[0m in \u001b[0;36m<module>\u001b[0;34m()\u001b[0m\n\u001b[1;32m      1\u001b[0m \u001b[0mhomepage_html\u001b[0m \u001b[0;34m=\u001b[0m \u001b[0mscroll_page\u001b[0m\u001b[0;34m(\u001b[0m\u001b[0mstart_url\u001b[0m\u001b[0;34m)\u001b[0m\u001b[0;34m\u001b[0m\u001b[0m\n\u001b[1;32m      2\u001b[0m \u001b[0msoup\u001b[0m \u001b[0;34m=\u001b[0m \u001b[0mget_soup\u001b[0m\u001b[0;34m(\u001b[0m\u001b[0mhomepage_html\u001b[0m\u001b[0;34m)\u001b[0m\u001b[0;34m\u001b[0m\u001b[0m\n\u001b[0;32m----> 3\u001b[0;31m \u001b[0mstart_scraping\u001b[0m\u001b[0;34m(\u001b[0m\u001b[0msoup\u001b[0m\u001b[0;34m)\u001b[0m\u001b[0;34m\u001b[0m\u001b[0m\n\u001b[0m",
      "\u001b[0;32m<ipython-input-7-d9951e17621a>\u001b[0m in \u001b[0;36mstart_scraping\u001b[0;34m(soup)\u001b[0m\n\u001b[1;32m     16\u001b[0m             \u001b[0msource_code\u001b[0m \u001b[0;34m=\u001b[0m \u001b[0mresponse\u001b[0m\u001b[0;34m.\u001b[0m\u001b[0mtext\u001b[0m\u001b[0;34m\u001b[0m\u001b[0m\n\u001b[1;32m     17\u001b[0m             \u001b[0msub_soup\u001b[0m \u001b[0;34m=\u001b[0m \u001b[0mget_soup\u001b[0m\u001b[0;34m(\u001b[0m\u001b[0msource_code\u001b[0m\u001b[0;34m)\u001b[0m\u001b[0;34m\u001b[0m\u001b[0m\n\u001b[0;32m---> 18\u001b[0;31m             \u001b[0mstart_scraping\u001b[0m\u001b[0;34m(\u001b[0m\u001b[0msub_soup\u001b[0m\u001b[0;34m)\u001b[0m\u001b[0;34m\u001b[0m\u001b[0m\n\u001b[0m",
      "\u001b[0;32m<ipython-input-7-d9951e17621a>\u001b[0m in \u001b[0;36mstart_scraping\u001b[0;34m(soup)\u001b[0m\n\u001b[1;32m     16\u001b[0m             \u001b[0msource_code\u001b[0m \u001b[0;34m=\u001b[0m \u001b[0mresponse\u001b[0m\u001b[0;34m.\u001b[0m\u001b[0mtext\u001b[0m\u001b[0;34m\u001b[0m\u001b[0m\n\u001b[1;32m     17\u001b[0m             \u001b[0msub_soup\u001b[0m \u001b[0;34m=\u001b[0m \u001b[0mget_soup\u001b[0m\u001b[0;34m(\u001b[0m\u001b[0msource_code\u001b[0m\u001b[0;34m)\u001b[0m\u001b[0;34m\u001b[0m\u001b[0m\n\u001b[0;32m---> 18\u001b[0;31m             \u001b[0mstart_scraping\u001b[0m\u001b[0;34m(\u001b[0m\u001b[0msub_soup\u001b[0m\u001b[0;34m)\u001b[0m\u001b[0;34m\u001b[0m\u001b[0m\n\u001b[0m",
      "\u001b[0;32m<ipython-input-7-d9951e17621a>\u001b[0m in \u001b[0;36mstart_scraping\u001b[0;34m(soup)\u001b[0m\n\u001b[1;32m     16\u001b[0m             \u001b[0msource_code\u001b[0m \u001b[0;34m=\u001b[0m \u001b[0mresponse\u001b[0m\u001b[0;34m.\u001b[0m\u001b[0mtext\u001b[0m\u001b[0;34m\u001b[0m\u001b[0m\n\u001b[1;32m     17\u001b[0m             \u001b[0msub_soup\u001b[0m \u001b[0;34m=\u001b[0m \u001b[0mget_soup\u001b[0m\u001b[0;34m(\u001b[0m\u001b[0msource_code\u001b[0m\u001b[0;34m)\u001b[0m\u001b[0;34m\u001b[0m\u001b[0m\n\u001b[0;32m---> 18\u001b[0;31m             \u001b[0mstart_scraping\u001b[0m\u001b[0;34m(\u001b[0m\u001b[0msub_soup\u001b[0m\u001b[0;34m)\u001b[0m\u001b[0;34m\u001b[0m\u001b[0m\n\u001b[0m",
      "\u001b[0;32m<ipython-input-7-d9951e17621a>\u001b[0m in \u001b[0;36mstart_scraping\u001b[0;34m(soup)\u001b[0m\n\u001b[1;32m     16\u001b[0m             \u001b[0msource_code\u001b[0m \u001b[0;34m=\u001b[0m \u001b[0mresponse\u001b[0m\u001b[0;34m.\u001b[0m\u001b[0mtext\u001b[0m\u001b[0;34m\u001b[0m\u001b[0m\n\u001b[1;32m     17\u001b[0m             \u001b[0msub_soup\u001b[0m \u001b[0;34m=\u001b[0m \u001b[0mget_soup\u001b[0m\u001b[0;34m(\u001b[0m\u001b[0msource_code\u001b[0m\u001b[0;34m)\u001b[0m\u001b[0;34m\u001b[0m\u001b[0m\n\u001b[0;32m---> 18\u001b[0;31m             \u001b[0mstart_scraping\u001b[0m\u001b[0;34m(\u001b[0m\u001b[0msub_soup\u001b[0m\u001b[0;34m)\u001b[0m\u001b[0;34m\u001b[0m\u001b[0m\n\u001b[0m",
      "\u001b[0;32m<ipython-input-7-d9951e17621a>\u001b[0m in \u001b[0;36mstart_scraping\u001b[0;34m(soup)\u001b[0m\n\u001b[1;32m      2\u001b[0m \u001b[0;32mdef\u001b[0m \u001b[0mstart_scraping\u001b[0m\u001b[0;34m(\u001b[0m\u001b[0msoup\u001b[0m\u001b[0;34m)\u001b[0m\u001b[0;34m:\u001b[0m\u001b[0;34m\u001b[0m\u001b[0m\n\u001b[1;32m      3\u001b[0m     \u001b[0;32mfor\u001b[0m \u001b[0mdisease\u001b[0m \u001b[0;32min\u001b[0m \u001b[0msoup\u001b[0m\u001b[0;34m.\u001b[0m\u001b[0mfindAll\u001b[0m\u001b[0;34m(\u001b[0m\u001b[0;34m'li'\u001b[0m\u001b[0;34m,\u001b[0m \u001b[0;34m{\u001b[0m\u001b[0;34m'class'\u001b[0m\u001b[0;34m:\u001b[0m \u001b[0;34m'css-ee6cf6'\u001b[0m\u001b[0;34m}\u001b[0m\u001b[0;34m)\u001b[0m\u001b[0;34m:\u001b[0m\u001b[0;34m\u001b[0m\u001b[0m\n\u001b[0;32m----> 4\u001b[0;31m         \u001b[0mname\u001b[0m\u001b[0;34m,\u001b[0m\u001b[0mcomplete_url\u001b[0m\u001b[0;34m,\u001b[0m\u001b[0msymptoms\u001b[0m \u001b[0;34m=\u001b[0m \u001b[0mextract_details\u001b[0m\u001b[0;34m(\u001b[0m\u001b[0mdisease\u001b[0m\u001b[0;34m)\u001b[0m\u001b[0;34m\u001b[0m\u001b[0m\n\u001b[0m\u001b[1;32m      5\u001b[0m         \u001b[0mprint\u001b[0m\u001b[0;34m(\u001b[0m\u001b[0mname\u001b[0m\u001b[0;34m)\u001b[0m\u001b[0;34m\u001b[0m\u001b[0m\n\u001b[1;32m      6\u001b[0m         \u001b[0mprint\u001b[0m\u001b[0;34m(\u001b[0m\u001b[0mcomplete_url\u001b[0m\u001b[0;34m)\u001b[0m\u001b[0;34m\u001b[0m\u001b[0m\n",
      "\u001b[0;32m<ipython-input-4-553231529783>\u001b[0m in \u001b[0;36mextract_details\u001b[0;34m(x)\u001b[0m\n\u001b[1;32m      2\u001b[0m     \u001b[0mname\u001b[0m \u001b[0;34m=\u001b[0m \u001b[0mextract_name\u001b[0m\u001b[0;34m(\u001b[0m\u001b[0mx\u001b[0m\u001b[0;34m)\u001b[0m\u001b[0;34m\u001b[0m\u001b[0m\n\u001b[1;32m      3\u001b[0m     \u001b[0mcomplete_url\u001b[0m \u001b[0;34m=\u001b[0m \u001b[0mextract_url\u001b[0m\u001b[0;34m(\u001b[0m\u001b[0mx\u001b[0m\u001b[0;34m)\u001b[0m\u001b[0;34m\u001b[0m\u001b[0m\n\u001b[0;32m----> 4\u001b[0;31m     \u001b[0mresponse\u001b[0m \u001b[0;34m=\u001b[0m \u001b[0mrequests\u001b[0m\u001b[0;34m.\u001b[0m\u001b[0mget\u001b[0m\u001b[0;34m(\u001b[0m\u001b[0mcomplete_url\u001b[0m\u001b[0;34m)\u001b[0m\u001b[0;34m\u001b[0m\u001b[0m\n\u001b[0m\u001b[1;32m      5\u001b[0m     \u001b[0msource_code\u001b[0m \u001b[0;34m=\u001b[0m \u001b[0mresponse\u001b[0m\u001b[0;34m.\u001b[0m\u001b[0mtext\u001b[0m\u001b[0;34m\u001b[0m\u001b[0m\n\u001b[1;32m      6\u001b[0m     \u001b[0msub_soup\u001b[0m \u001b[0;34m=\u001b[0m \u001b[0mget_soup\u001b[0m\u001b[0;34m(\u001b[0m\u001b[0msource_code\u001b[0m\u001b[0;34m)\u001b[0m\u001b[0;34m\u001b[0m\u001b[0m\n",
      "\u001b[0;32m~/anaconda3/lib/python3.6/site-packages/requests/api.py\u001b[0m in \u001b[0;36mget\u001b[0;34m(url, params, **kwargs)\u001b[0m\n\u001b[1;32m     70\u001b[0m \u001b[0;34m\u001b[0m\u001b[0m\n\u001b[1;32m     71\u001b[0m     \u001b[0mkwargs\u001b[0m\u001b[0;34m.\u001b[0m\u001b[0msetdefault\u001b[0m\u001b[0;34m(\u001b[0m\u001b[0;34m'allow_redirects'\u001b[0m\u001b[0;34m,\u001b[0m \u001b[0;32mTrue\u001b[0m\u001b[0;34m)\u001b[0m\u001b[0;34m\u001b[0m\u001b[0m\n\u001b[0;32m---> 72\u001b[0;31m     \u001b[0;32mreturn\u001b[0m \u001b[0mrequest\u001b[0m\u001b[0;34m(\u001b[0m\u001b[0;34m'get'\u001b[0m\u001b[0;34m,\u001b[0m \u001b[0murl\u001b[0m\u001b[0;34m,\u001b[0m \u001b[0mparams\u001b[0m\u001b[0;34m=\u001b[0m\u001b[0mparams\u001b[0m\u001b[0;34m,\u001b[0m \u001b[0;34m**\u001b[0m\u001b[0mkwargs\u001b[0m\u001b[0;34m)\u001b[0m\u001b[0;34m\u001b[0m\u001b[0m\n\u001b[0m\u001b[1;32m     73\u001b[0m \u001b[0;34m\u001b[0m\u001b[0m\n\u001b[1;32m     74\u001b[0m \u001b[0;34m\u001b[0m\u001b[0m\n",
      "\u001b[0;32m~/anaconda3/lib/python3.6/site-packages/requests/api.py\u001b[0m in \u001b[0;36mrequest\u001b[0;34m(method, url, **kwargs)\u001b[0m\n\u001b[1;32m     56\u001b[0m     \u001b[0;31m# cases, and look like a memory leak in others.\u001b[0m\u001b[0;34m\u001b[0m\u001b[0;34m\u001b[0m\u001b[0m\n\u001b[1;32m     57\u001b[0m     \u001b[0;32mwith\u001b[0m \u001b[0msessions\u001b[0m\u001b[0;34m.\u001b[0m\u001b[0mSession\u001b[0m\u001b[0;34m(\u001b[0m\u001b[0;34m)\u001b[0m \u001b[0;32mas\u001b[0m \u001b[0msession\u001b[0m\u001b[0;34m:\u001b[0m\u001b[0;34m\u001b[0m\u001b[0m\n\u001b[0;32m---> 58\u001b[0;31m         \u001b[0;32mreturn\u001b[0m \u001b[0msession\u001b[0m\u001b[0;34m.\u001b[0m\u001b[0mrequest\u001b[0m\u001b[0;34m(\u001b[0m\u001b[0mmethod\u001b[0m\u001b[0;34m=\u001b[0m\u001b[0mmethod\u001b[0m\u001b[0;34m,\u001b[0m \u001b[0murl\u001b[0m\u001b[0;34m=\u001b[0m\u001b[0murl\u001b[0m\u001b[0;34m,\u001b[0m \u001b[0;34m**\u001b[0m\u001b[0mkwargs\u001b[0m\u001b[0;34m)\u001b[0m\u001b[0;34m\u001b[0m\u001b[0m\n\u001b[0m\u001b[1;32m     59\u001b[0m \u001b[0;34m\u001b[0m\u001b[0m\n\u001b[1;32m     60\u001b[0m \u001b[0;34m\u001b[0m\u001b[0m\n",
      "\u001b[0;32m~/anaconda3/lib/python3.6/site-packages/requests/sessions.py\u001b[0m in \u001b[0;36mrequest\u001b[0;34m(self, method, url, params, data, headers, cookies, files, auth, timeout, allow_redirects, proxies, hooks, stream, verify, cert, json)\u001b[0m\n\u001b[1;32m    506\u001b[0m         }\n\u001b[1;32m    507\u001b[0m         \u001b[0msend_kwargs\u001b[0m\u001b[0;34m.\u001b[0m\u001b[0mupdate\u001b[0m\u001b[0;34m(\u001b[0m\u001b[0msettings\u001b[0m\u001b[0;34m)\u001b[0m\u001b[0;34m\u001b[0m\u001b[0m\n\u001b[0;32m--> 508\u001b[0;31m         \u001b[0mresp\u001b[0m \u001b[0;34m=\u001b[0m \u001b[0mself\u001b[0m\u001b[0;34m.\u001b[0m\u001b[0msend\u001b[0m\u001b[0;34m(\u001b[0m\u001b[0mprep\u001b[0m\u001b[0;34m,\u001b[0m \u001b[0;34m**\u001b[0m\u001b[0msend_kwargs\u001b[0m\u001b[0;34m)\u001b[0m\u001b[0;34m\u001b[0m\u001b[0m\n\u001b[0m\u001b[1;32m    509\u001b[0m \u001b[0;34m\u001b[0m\u001b[0m\n\u001b[1;32m    510\u001b[0m         \u001b[0;32mreturn\u001b[0m \u001b[0mresp\u001b[0m\u001b[0;34m\u001b[0m\u001b[0m\n",
      "\u001b[0;32m~/anaconda3/lib/python3.6/site-packages/requests/sessions.py\u001b[0m in \u001b[0;36msend\u001b[0;34m(self, request, **kwargs)\u001b[0m\n\u001b[1;32m    616\u001b[0m \u001b[0;34m\u001b[0m\u001b[0m\n\u001b[1;32m    617\u001b[0m         \u001b[0;31m# Send the request\u001b[0m\u001b[0;34m\u001b[0m\u001b[0;34m\u001b[0m\u001b[0m\n\u001b[0;32m--> 618\u001b[0;31m         \u001b[0mr\u001b[0m \u001b[0;34m=\u001b[0m \u001b[0madapter\u001b[0m\u001b[0;34m.\u001b[0m\u001b[0msend\u001b[0m\u001b[0;34m(\u001b[0m\u001b[0mrequest\u001b[0m\u001b[0;34m,\u001b[0m \u001b[0;34m**\u001b[0m\u001b[0mkwargs\u001b[0m\u001b[0;34m)\u001b[0m\u001b[0;34m\u001b[0m\u001b[0m\n\u001b[0m\u001b[1;32m    619\u001b[0m \u001b[0;34m\u001b[0m\u001b[0m\n\u001b[1;32m    620\u001b[0m         \u001b[0;31m# Total elapsed time of the request (approximately)\u001b[0m\u001b[0;34m\u001b[0m\u001b[0;34m\u001b[0m\u001b[0m\n",
      "\u001b[0;32m~/anaconda3/lib/python3.6/site-packages/requests/adapters.py\u001b[0m in \u001b[0;36msend\u001b[0;34m(self, request, stream, timeout, verify, cert, proxies)\u001b[0m\n\u001b[1;32m    438\u001b[0m                     \u001b[0mdecode_content\u001b[0m\u001b[0;34m=\u001b[0m\u001b[0;32mFalse\u001b[0m\u001b[0;34m,\u001b[0m\u001b[0;34m\u001b[0m\u001b[0m\n\u001b[1;32m    439\u001b[0m                     \u001b[0mretries\u001b[0m\u001b[0;34m=\u001b[0m\u001b[0mself\u001b[0m\u001b[0;34m.\u001b[0m\u001b[0mmax_retries\u001b[0m\u001b[0;34m,\u001b[0m\u001b[0;34m\u001b[0m\u001b[0m\n\u001b[0;32m--> 440\u001b[0;31m                     \u001b[0mtimeout\u001b[0m\u001b[0;34m=\u001b[0m\u001b[0mtimeout\u001b[0m\u001b[0;34m\u001b[0m\u001b[0m\n\u001b[0m\u001b[1;32m    441\u001b[0m                 )\n\u001b[1;32m    442\u001b[0m \u001b[0;34m\u001b[0m\u001b[0m\n",
      "\u001b[0;32m~/anaconda3/lib/python3.6/site-packages/urllib3/connectionpool.py\u001b[0m in \u001b[0;36murlopen\u001b[0;34m(self, method, url, body, headers, retries, redirect, assert_same_host, timeout, pool_timeout, release_conn, chunked, body_pos, **response_kw)\u001b[0m\n\u001b[1;32m    599\u001b[0m                                                   \u001b[0mtimeout\u001b[0m\u001b[0;34m=\u001b[0m\u001b[0mtimeout_obj\u001b[0m\u001b[0;34m,\u001b[0m\u001b[0;34m\u001b[0m\u001b[0m\n\u001b[1;32m    600\u001b[0m                                                   \u001b[0mbody\u001b[0m\u001b[0;34m=\u001b[0m\u001b[0mbody\u001b[0m\u001b[0;34m,\u001b[0m \u001b[0mheaders\u001b[0m\u001b[0;34m=\u001b[0m\u001b[0mheaders\u001b[0m\u001b[0;34m,\u001b[0m\u001b[0;34m\u001b[0m\u001b[0m\n\u001b[0;32m--> 601\u001b[0;31m                                                   chunked=chunked)\n\u001b[0m\u001b[1;32m    602\u001b[0m \u001b[0;34m\u001b[0m\u001b[0m\n\u001b[1;32m    603\u001b[0m             \u001b[0;31m# If we're going to release the connection in ``finally:``, then\u001b[0m\u001b[0;34m\u001b[0m\u001b[0;34m\u001b[0m\u001b[0m\n",
      "\u001b[0;32m~/anaconda3/lib/python3.6/site-packages/urllib3/connectionpool.py\u001b[0m in \u001b[0;36m_make_request\u001b[0;34m(self, conn, method, url, timeout, chunked, **httplib_request_kw)\u001b[0m\n\u001b[1;32m    344\u001b[0m         \u001b[0;31m# Trigger any extra validation we need to do.\u001b[0m\u001b[0;34m\u001b[0m\u001b[0;34m\u001b[0m\u001b[0m\n\u001b[1;32m    345\u001b[0m         \u001b[0;32mtry\u001b[0m\u001b[0;34m:\u001b[0m\u001b[0;34m\u001b[0m\u001b[0m\n\u001b[0;32m--> 346\u001b[0;31m             \u001b[0mself\u001b[0m\u001b[0;34m.\u001b[0m\u001b[0m_validate_conn\u001b[0m\u001b[0;34m(\u001b[0m\u001b[0mconn\u001b[0m\u001b[0;34m)\u001b[0m\u001b[0;34m\u001b[0m\u001b[0m\n\u001b[0m\u001b[1;32m    347\u001b[0m         \u001b[0;32mexcept\u001b[0m \u001b[0;34m(\u001b[0m\u001b[0mSocketTimeout\u001b[0m\u001b[0;34m,\u001b[0m \u001b[0mBaseSSLError\u001b[0m\u001b[0;34m)\u001b[0m \u001b[0;32mas\u001b[0m \u001b[0me\u001b[0m\u001b[0;34m:\u001b[0m\u001b[0;34m\u001b[0m\u001b[0m\n\u001b[1;32m    348\u001b[0m             \u001b[0;31m# Py2 raises this as a BaseSSLError, Py3 raises it as socket timeout.\u001b[0m\u001b[0;34m\u001b[0m\u001b[0;34m\u001b[0m\u001b[0m\n",
      "\u001b[0;32m~/anaconda3/lib/python3.6/site-packages/urllib3/connectionpool.py\u001b[0m in \u001b[0;36m_validate_conn\u001b[0;34m(self, conn)\u001b[0m\n\u001b[1;32m    848\u001b[0m         \u001b[0;31m# Force connect early to allow us to validate the connection.\u001b[0m\u001b[0;34m\u001b[0m\u001b[0;34m\u001b[0m\u001b[0m\n\u001b[1;32m    849\u001b[0m         \u001b[0;32mif\u001b[0m \u001b[0;32mnot\u001b[0m \u001b[0mgetattr\u001b[0m\u001b[0;34m(\u001b[0m\u001b[0mconn\u001b[0m\u001b[0;34m,\u001b[0m \u001b[0;34m'sock'\u001b[0m\u001b[0;34m,\u001b[0m \u001b[0;32mNone\u001b[0m\u001b[0;34m)\u001b[0m\u001b[0;34m:\u001b[0m  \u001b[0;31m# AppEngine might not have  `.sock`\u001b[0m\u001b[0;34m\u001b[0m\u001b[0m\n\u001b[0;32m--> 850\u001b[0;31m             \u001b[0mconn\u001b[0m\u001b[0;34m.\u001b[0m\u001b[0mconnect\u001b[0m\u001b[0;34m(\u001b[0m\u001b[0;34m)\u001b[0m\u001b[0;34m\u001b[0m\u001b[0m\n\u001b[0m\u001b[1;32m    851\u001b[0m \u001b[0;34m\u001b[0m\u001b[0m\n\u001b[1;32m    852\u001b[0m         \u001b[0;32mif\u001b[0m \u001b[0;32mnot\u001b[0m \u001b[0mconn\u001b[0m\u001b[0;34m.\u001b[0m\u001b[0mis_verified\u001b[0m\u001b[0;34m:\u001b[0m\u001b[0;34m\u001b[0m\u001b[0m\n",
      "\u001b[0;32m~/anaconda3/lib/python3.6/site-packages/urllib3/connection.py\u001b[0m in \u001b[0;36mconnect\u001b[0;34m(self)\u001b[0m\n\u001b[1;32m    324\u001b[0m             \u001b[0mca_cert_dir\u001b[0m\u001b[0;34m=\u001b[0m\u001b[0mself\u001b[0m\u001b[0;34m.\u001b[0m\u001b[0mca_cert_dir\u001b[0m\u001b[0;34m,\u001b[0m\u001b[0;34m\u001b[0m\u001b[0m\n\u001b[1;32m    325\u001b[0m             \u001b[0mserver_hostname\u001b[0m\u001b[0;34m=\u001b[0m\u001b[0mhostname\u001b[0m\u001b[0;34m,\u001b[0m\u001b[0;34m\u001b[0m\u001b[0m\n\u001b[0;32m--> 326\u001b[0;31m             ssl_context=context)\n\u001b[0m\u001b[1;32m    327\u001b[0m \u001b[0;34m\u001b[0m\u001b[0m\n\u001b[1;32m    328\u001b[0m         \u001b[0;32mif\u001b[0m \u001b[0mself\u001b[0m\u001b[0;34m.\u001b[0m\u001b[0massert_fingerprint\u001b[0m\u001b[0;34m:\u001b[0m\u001b[0;34m\u001b[0m\u001b[0m\n",
      "\u001b[0;32m~/anaconda3/lib/python3.6/site-packages/urllib3/util/ssl_.py\u001b[0m in \u001b[0;36mssl_wrap_socket\u001b[0;34m(sock, keyfile, certfile, cert_reqs, ca_certs, server_hostname, ssl_version, ciphers, ssl_context, ca_cert_dir)\u001b[0m\n\u001b[1;32m    327\u001b[0m         \u001b[0mcontext\u001b[0m\u001b[0;34m.\u001b[0m\u001b[0mload_cert_chain\u001b[0m\u001b[0;34m(\u001b[0m\u001b[0mcertfile\u001b[0m\u001b[0;34m,\u001b[0m \u001b[0mkeyfile\u001b[0m\u001b[0;34m)\u001b[0m\u001b[0;34m\u001b[0m\u001b[0m\n\u001b[1;32m    328\u001b[0m     \u001b[0;32mif\u001b[0m \u001b[0mHAS_SNI\u001b[0m\u001b[0;34m:\u001b[0m  \u001b[0;31m# Platform-specific: OpenSSL with enabled SNI\u001b[0m\u001b[0;34m\u001b[0m\u001b[0m\n\u001b[0;32m--> 329\u001b[0;31m         \u001b[0;32mreturn\u001b[0m \u001b[0mcontext\u001b[0m\u001b[0;34m.\u001b[0m\u001b[0mwrap_socket\u001b[0m\u001b[0;34m(\u001b[0m\u001b[0msock\u001b[0m\u001b[0;34m,\u001b[0m \u001b[0mserver_hostname\u001b[0m\u001b[0;34m=\u001b[0m\u001b[0mserver_hostname\u001b[0m\u001b[0;34m)\u001b[0m\u001b[0;34m\u001b[0m\u001b[0m\n\u001b[0m\u001b[1;32m    330\u001b[0m \u001b[0;34m\u001b[0m\u001b[0m\n\u001b[1;32m    331\u001b[0m     warnings.warn(\n",
      "\u001b[0;32m~/anaconda3/lib/python3.6/site-packages/urllib3/contrib/pyopenssl.py\u001b[0m in \u001b[0;36mwrap_socket\u001b[0;34m(self, sock, server_side, do_handshake_on_connect, suppress_ragged_eofs, server_hostname)\u001b[0m\n\u001b[1;32m    439\u001b[0m         \u001b[0;32mwhile\u001b[0m \u001b[0;32mTrue\u001b[0m\u001b[0;34m:\u001b[0m\u001b[0;34m\u001b[0m\u001b[0m\n\u001b[1;32m    440\u001b[0m             \u001b[0;32mtry\u001b[0m\u001b[0;34m:\u001b[0m\u001b[0;34m\u001b[0m\u001b[0m\n\u001b[0;32m--> 441\u001b[0;31m                 \u001b[0mcnx\u001b[0m\u001b[0;34m.\u001b[0m\u001b[0mdo_handshake\u001b[0m\u001b[0;34m(\u001b[0m\u001b[0;34m)\u001b[0m\u001b[0;34m\u001b[0m\u001b[0m\n\u001b[0m\u001b[1;32m    442\u001b[0m             \u001b[0;32mexcept\u001b[0m \u001b[0mOpenSSL\u001b[0m\u001b[0;34m.\u001b[0m\u001b[0mSSL\u001b[0m\u001b[0;34m.\u001b[0m\u001b[0mWantReadError\u001b[0m\u001b[0;34m:\u001b[0m\u001b[0;34m\u001b[0m\u001b[0m\n\u001b[1;32m    443\u001b[0m                 \u001b[0mrd\u001b[0m \u001b[0;34m=\u001b[0m \u001b[0mutil\u001b[0m\u001b[0;34m.\u001b[0m\u001b[0mwait_for_read\u001b[0m\u001b[0;34m(\u001b[0m\u001b[0msock\u001b[0m\u001b[0;34m,\u001b[0m \u001b[0msock\u001b[0m\u001b[0;34m.\u001b[0m\u001b[0mgettimeout\u001b[0m\u001b[0;34m(\u001b[0m\u001b[0;34m)\u001b[0m\u001b[0;34m)\u001b[0m\u001b[0;34m\u001b[0m\u001b[0m\n",
      "\u001b[0;32m~/anaconda3/lib/python3.6/site-packages/OpenSSL/SSL.py\u001b[0m in \u001b[0;36mdo_handshake\u001b[0;34m(self)\u001b[0m\n\u001b[1;32m   1803\u001b[0m         \u001b[0;34m:\u001b[0m\u001b[0;32mreturn\u001b[0m\u001b[0;34m:\u001b[0m \u001b[0;32mNone\u001b[0m\u001b[0;34m.\u001b[0m\u001b[0;34m\u001b[0m\u001b[0m\n\u001b[1;32m   1804\u001b[0m         \"\"\"\n\u001b[0;32m-> 1805\u001b[0;31m         \u001b[0mresult\u001b[0m \u001b[0;34m=\u001b[0m \u001b[0m_lib\u001b[0m\u001b[0;34m.\u001b[0m\u001b[0mSSL_do_handshake\u001b[0m\u001b[0;34m(\u001b[0m\u001b[0mself\u001b[0m\u001b[0;34m.\u001b[0m\u001b[0m_ssl\u001b[0m\u001b[0;34m)\u001b[0m\u001b[0;34m\u001b[0m\u001b[0m\n\u001b[0m\u001b[1;32m   1806\u001b[0m         \u001b[0mself\u001b[0m\u001b[0;34m.\u001b[0m\u001b[0m_raise_ssl_error\u001b[0m\u001b[0;34m(\u001b[0m\u001b[0mself\u001b[0m\u001b[0;34m.\u001b[0m\u001b[0m_ssl\u001b[0m\u001b[0;34m,\u001b[0m \u001b[0mresult\u001b[0m\u001b[0;34m)\u001b[0m\u001b[0;34m\u001b[0m\u001b[0m\n\u001b[1;32m   1807\u001b[0m \u001b[0;34m\u001b[0m\u001b[0m\n",
      "\u001b[0;31mKeyboardInterrupt\u001b[0m: "
     ]
    }
   ],
   "source": [
    "homepage_html = scroll_page(start_url)\n",
    "soup = get_soup(homepage_html)\n",
    "start_scraping(soup)"
   ]
  },
  {
   "cell_type": "code",
   "execution_count": 15,
   "metadata": {},
   "outputs": [
    {
     "data": {
      "text/plain": [
       "29"
      ]
     },
     "execution_count": 15,
     "metadata": {},
     "output_type": "execute_result"
    }
   ],
   "source": [
    "len(final_symptoms)"
   ]
  },
  {
   "cell_type": "code",
   "execution_count": 10,
   "metadata": {},
   "outputs": [],
   "source": [
    "json = json.dumps(final_symptoms)"
   ]
  },
  {
   "cell_type": "code",
   "execution_count": 16,
   "metadata": {},
   "outputs": [],
   "source": [
    "with open('sample_output.json','w') as output_file:\n",
    "    output_file.write(json)"
   ]
  },
  {
   "cell_type": "markdown",
   "metadata": {},
   "source": [
    "# Since the webpage response is slow we extract all the records into our database as json documents and iterate over json documents to get the desired results as we need by parsing through the values/symptoms or combinations as we need."
   ]
  },
  {
   "cell_type": "code",
   "execution_count": 12,
   "metadata": {},
   "outputs": [
    {
     "name": "stdout",
     "output_type": "stream",
     "text": [
      "Low Blood Sugar (Hypoglycemia)\n",
      "Labyrinthitis\n",
      "Caffeine Overdose: How Much Is Too Much?\n",
      "Heat Emergencies\n"
     ]
    }
   ],
   "source": [
    "for key,values in final_symptoms.items():\n",
    "    if 'dizziness' in values:\n",
    "        print(key)"
   ]
  },
  {
   "cell_type": "markdown",
   "metadata": {},
   "source": [
    "# A sample interaction which returns a disease having both dizziness and rapid heartbeat as symptoms"
   ]
  },
  {
   "cell_type": "code",
   "execution_count": 13,
   "metadata": {},
   "outputs": [
    {
     "name": "stdout",
     "output_type": "stream",
     "text": [
      "Low Blood Sugar (Hypoglycemia)\n"
     ]
    }
   ],
   "source": [
    "for key,values in final_symptoms.items():\n",
    "    if 'dizziness' and 'rapid heartbeat' in values:\n",
    "        print(key)"
   ]
  },
  {
   "cell_type": "markdown",
   "metadata": {},
   "source": [
    "# A sample scrap showing list of all 84 possible conditions causing dizziness "
   ]
  },
  {
   "cell_type": "code",
   "execution_count": 17,
   "metadata": {
    "scrolled": true
   },
   "outputs": [
    {
     "name": "stdout",
     "output_type": "stream",
     "text": [
      "Low Blood Sugar (Hypoglycemia)\n",
      "https://www.healthline.com/health/hypoglycemia\n",
      "Labyrinthitis\n",
      "https://www.healthline.com/health/labyrinthitis\n",
      "What Is Hypotension?\n",
      "https://www.healthline.com/health/hypotension\n",
      "Meniere's Disease\n",
      "https://www.healthline.com/health/menieres-disease\n",
      "Everything You Need to Know About High Blood Pressure (Hypertension)\n",
      "https://www.healthline.com/health/high-blood-pressure-hypertension\n",
      "What Causes Abnormal Heart Rhythms?\n",
      "https://www.healthline.com/health/abnormal-heart-rhythms\n",
      "Everything You Need to Know About Stroke\n",
      "https://www.healthline.com/health/stroke\n",
      "Heart Attack\n",
      "https://www.healthline.com/health/heart-attack\n",
      "Bleeding\n",
      "https://www.healthline.com/health/bleeding\n",
      "What Is Hyperventilation?\n",
      "https://www.healthline.com/health/hyperventilation\n",
      "Dehydration\n",
      "https://www.healthline.com/health/dehydration\n",
      "Panic Disorder\n",
      "https://www.healthline.com/health/panic-disorder\n",
      "Motion Sickness\n",
      "https://www.healthline.com/health/motion-sickness\n",
      "Heat Emergencies\n",
      "https://www.healthline.com/health/heat-emergencies\n",
      "Beriberi\n",
      "https://www.healthline.com/health/beriberi\n",
      "Hypovolemic Shock\n",
      "https://www.healthline.com/health/hypovolemic-shock\n",
      "Middle Ear Infection (Otitis Media)\n",
      "https://www.healthline.com/health/otitis\n",
      "Hypothermia\n",
      "https://www.healthline.com/health/hypothermia\n",
      "Vertebrobasilar Circulatory Disorders\n",
      "https://www.healthline.com/health/vertebrobasilar-circulatory-disorders\n",
      "Cold and Flu\n",
      "https://www.healthline.com/health/cold-flu\n",
      "Benign Positional Vertigo (BPV)\n",
      "https://www.healthline.com/health/benign-positional-vertigo\n",
      "Ventricular Tachycardia\n",
      "https://www.healthline.com/health/ventricular-tachycardia\n",
      "Whiplash\n",
      "https://www.healthline.com/health/whiplash\n",
      "Caffeine Overdose: How Much Is Too Much?\n",
      "https://www.healthline.com/health/caffeine-overdose\n",
      "Paroxysmal Supraventricular Tachycardia (PSVT)\n",
      "https://www.healthline.com/health/paroxysmal-supraventricular-tachycardia-psvt\n",
      "Atrial Flutter\n",
      "https://www.healthline.com/health/heart-disease/atrial-flutter\n",
      "Epidural Hematoma\n",
      "https://www.healthline.com/health/epidural-hematoma\n",
      "What Do You Want to Know About Pregnancy?\n",
      "https://www.healthline.com/health/pregnancy\n",
      "Atrial Fibrillation and Flutter\n",
      "https://www.healthline.com/health/atrial-fibrillation-and-flutter\n",
      "Transient Ischemic Attack (Ministroke)\n",
      "https://www.healthline.com/health/transient-ischemic-attack\n",
      "Atherosclerosis\n",
      "https://www.healthline.com/health/atherosclerosis\n",
      "Ectopic Pregnancy\n",
      "https://www.healthline.com/health/pregnancy/ectopic-pregnancy\n",
      "Pulmonary Embolism\n",
      "https://www.healthline.com/health/pulmonary-embolus\n",
      "Cardiac Tamponade\n",
      "https://www.healthline.com/health/cardiac-tamponade\n",
      "Abdominal Aortic Aneurysm\n",
      "https://www.healthline.com/health/abdominal-aortic-aneurysm\n",
      "Viral Gastroenteritis (Stomach Flu)\n",
      "https://www.healthline.com/health/viral-gastroenteritis\n",
      "Common Cold Overview\n",
      "https://www.healthline.com/health/common-cold\n",
      "Peptic Ulcer\n",
      "https://www.healthline.com/health/peptic-ulcer\n",
      "Toxic Megacolon\n",
      "https://www.healthline.com/health/toxic-megacolon\n",
      "Anorexia Nervosa\n",
      "https://www.healthline.com/health/anorexia-nervosa\n",
      "Multifocal Atrial Tachycardia and Your Heart\n",
      "https://www.healthline.com/health/multifocal-atrial-tachycardia\n",
      "Hyperemesis Gravidarum\n",
      "https://www.healthline.com/health/hyperemesis-gravidarum\n",
      "Chemical Burns\n",
      "https://www.healthline.com/health/chemical-burn-or-reaction\n",
      "Everything You Need to Know About Fibromyalgia\n",
      "https://www.healthline.com/health/fibromyalgia\n",
      "Marine Animal Bites or Stings\n",
      "https://www.healthline.com/health/marine-animal-stings-or-bites\n",
      "Focal Onset Seizures (Partial Seizures)\n",
      "https://www.healthline.com/health/partial-focal-seizure\n",
      "Carbon Monoxide Poisoning\n",
      "https://www.healthline.com/health/carbon-monoxide-poisoning\n",
      "Toxic Shock Syndrome\n",
      "https://www.healthline.com/health/toxic-shock-syndrome\n",
      "Addisonian Crisis (Acute Adrenal Crisis)\n",
      "https://www.healthline.com/health/acute-adrenal-crisis\n",
      "Acoustic Neuroma\n",
      "https://www.healthline.com/health/acoustic-neuroma\n",
      "Fertilizer and Plant Food Poisoning\n",
      "https://www.healthline.com/health/fertilizers-and-household-plant-foods\n",
      "Acute Mountain Sickness\n",
      "https://www.healthline.com/health/acute-mountain-sickness\n",
      "Respiratory Alkalosis\n",
      "https://www.healthline.com/health/respiratory-alkalosis\n",
      "Autonomic Neuropathy\n",
      "https://www.healthline.com/health/autonomic-neuropathy\n",
      "ABO Incompatibility Reaction\n",
      "https://www.healthline.com/health/abo-incompatibility\n",
      "What Causes Heart Murmurs?\n",
      "https://www.healthline.com/health/heart-murmurs-and-other-sounds\n",
      "Post-Traumatic Stress Disorder (PTSD)\n",
      "https://www.healthline.com/health/post-traumatic-stress-disorder\n",
      "Post-Concussion Syndrome\n",
      "https://www.healthline.com/health/post-concussion-syndrome\n",
      "Everything You Should Know About Menopause\n",
      "https://www.healthline.com/health/menopause\n",
      "Everything You Should Know About Diabetic Neuropathy\n",
      "https://www.healthline.com/health/type-2-diabetes/diabetic-neuropathy\n",
      "What Is a Drug Allergy?\n",
      "https://www.healthline.com/health/drug-allergy\n",
      "Goiter\n",
      "https://www.healthline.com/health/goiter-simple\n",
      "Hypertrophic Cardiomyopathy\n",
      "https://www.healthline.com/health/hypertrophic-cardiomyopathy\n",
      "Understanding Multiple Sclerosis (MS)\n",
      "https://www.healthline.com/health/multiple-sclerosis\n",
      "Endometriosis\n",
      "https://www.healthline.com/health/endometriosis\n",
      "SARS (Severe Acute Respiratory Syndrome)\n",
      "https://www.healthline.com/health/severe-acute-respiratory-syndrome-sars\n",
      "Snake Bites\n",
      "https://www.healthline.com/health/snake-bites\n",
      "Everything You Need to Know About Polycythemia Vera\n",
      "https://www.healthline.com/health/polycythemia-vera\n",
      "Alcoholic Ketoacidosis\n",
      "https://www.healthline.com/health/alcoholism/ketoacidosis\n",
      "Ear Barotrauma\n",
      "https://www.healthline.com/health/ear-barotrauma\n",
      "Aftershave Poisoning: What to Do\n",
      "https://www.healthline.com/health/aftershaves\n",
      "Everything You Should Know About Diabetes Insipidus\n",
      "https://www.healthline.com/health/type-2-diabetes/diabetes-insipidus\n",
      "Isopropyl Alcohol Poisoning\n",
      "https://www.healthline.com/health/isopropyl-alcohol\n",
      "Agoraphobia\n",
      "https://www.healthline.com/health/agoraphobia\n",
      "Wolff-Parkinson-White Syndrome\n",
      "https://www.healthline.com/health/wolff-parkinson-white-syndrome\n",
      "Mallory-Weiss Syndrome\n",
      "https://www.healthline.com/health/mallory-weiss-tear\n",
      "Sick Sinus Syndrome\n",
      "https://www.healthline.com/health/sick-sinus-syndrome\n",
      "Agoraphobia With Panic Attacks\n",
      "https://www.healthline.com/health/agoraphobia-panic-attacks\n",
      "Allergic Asthma\n",
      "https://www.healthline.com/health/asthma/allergic-asthma\n",
      "Teenage Pregnancy\n",
      "https://www.healthline.com/health/adolescent-pregnancy\n",
      "Hearing Loss\n",
      "https://www.healthline.com/health/hearing-loss\n",
      "Cholesteatoma: Causes, Symptoms, and Diagnosis\n",
      "https://www.healthline.com/health/cholesteatoma\n",
      "Tinnitus\n",
      "https://www.healthline.com/health/tinnitus\n",
      "Pulmonary Arterial Hypertension\n",
      "https://www.healthline.com/health/pulmonary-hypertension\n"
     ]
    }
   ],
   "source": [
    "for disease in soup.findAll('li', {'class': 'css-ee6cf6'}):\n",
    "        name,complete_url,symptoms = extract_details(disease)\n",
    "        print(name)\n",
    "        print(complete_url)"
   ]
  },
  {
   "cell_type": "code",
   "execution_count": null,
   "metadata": {},
   "outputs": [],
   "source": []
  }
 ],
 "metadata": {
  "kernelspec": {
   "display_name": "Python 3",
   "language": "python",
   "name": "python3"
  },
  "language_info": {
   "codemirror_mode": {
    "name": "ipython",
    "version": 3
   },
   "file_extension": ".py",
   "mimetype": "text/x-python",
   "name": "python",
   "nbconvert_exporter": "python",
   "pygments_lexer": "ipython3",
   "version": "3.6.4"
  }
 },
 "nbformat": 4,
 "nbformat_minor": 2
}
